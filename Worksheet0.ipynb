{
  "nbformat": 4,
  "nbformat_minor": 0,
  "metadata": {
    "colab": {
      "provenance": [],
      "include_colab_link": true
    },
    "kernelspec": {
      "name": "python3",
      "display_name": "Python 3"
    },
    "language_info": {
      "name": "python"
    }
  },
  "cells": [
    {
      "cell_type": "markdown",
      "metadata": {
        "id": "view-in-github",
        "colab_type": "text"
      },
      "source": [
        "<a href=\"https://colab.research.google.com/github/Manogya-Git/AI-and-ML/blob/main/Worksheet0.ipynb\" target=\"_parent\"><img src=\"https://colab.research.google.com/assets/colab-badge.svg\" alt=\"Open In Colab\"/></a>"
      ]
    },
    {
      "cell_type": "markdown",
      "source": [
        "#Task1\n"
      ],
      "metadata": {
        "id": "Hh3rKJ1tRitM"
      }
    },
    {
      "cell_type": "code",
      "execution_count": null,
      "metadata": {
        "colab": {
          "base_uri": "https://localhost:8080/"
        },
        "id": "IB_dX9lJQju9",
        "outputId": "ba4ed86d-b61f-4844-a2a3-bd0bfb2df772"
      },
      "outputs": [
        {
          "output_type": "stream",
          "name": "stdout",
          "text": [
            "Unit Conversion Program\n",
            "Choose a type of conversion:\n",
            "1. Length (meters to feet / feet to meters)\n",
            "2. Weight (kilograms to pounds / pounds to kilograms)\n",
            "3. Volume (liters to gallons / gallons to liters)\n",
            "Enter the number of your choice: 1\n",
            "Length Conversion:\n",
            "Convert from (m/ft): m\n",
            "Enter value in m: 2.3\n",
            "2.3 m = 7.55 ft\n"
          ]
        }
      ],
      "source": [
        "def convert_length(value, unit_from, unit_to):\n",
        "    \"\"\"\n",
        "    Convert length between meters and feet.\n",
        "\n",
        "    Parameters:\n",
        "        value (float): The numerical value to be converted.\n",
        "        unit_from (str): The unit of the input value ('m' or 'ft').\n",
        "        unit_to (str): The desired unit for the output value ('m' or 'ft').\n",
        "\n",
        "    Returns:\n",
        "        float: The converted value.\n",
        "    \"\"\"\n",
        "    if unit_from == \"m\" and unit_to == \"ft\":\n",
        "        return value * 3.28084\n",
        "    elif unit_from == \"ft\" and unit_to == \"m\":\n",
        "        return value / 3.28084\n",
        "    else:\n",
        "        raise ValueError(\"Invalid length conversion units.\")\n",
        "\n",
        "def convert_weight(value, unit_from, unit_to):\n",
        "    \"\"\"\n",
        "    Convert weight between kilograms and pounds.\n",
        "\n",
        "    Parameters:\n",
        "        value (float): The numerical value to be converted.\n",
        "        unit_from (str): The unit of the input value ('kg' or 'lbs').\n",
        "        unit_to (str): The desired unit for the output value ('kg' or 'lbs').\n",
        "\n",
        "    Returns:\n",
        "        float: The converted value.\n",
        "    \"\"\"\n",
        "    if unit_from == \"kg\" and unit_to == \"lbs\":\n",
        "        return value * 2.20462\n",
        "    elif unit_from == \"lbs\" and unit_to == \"kg\":\n",
        "        return value / 2.20462\n",
        "    else:\n",
        "        raise ValueError(\"Invalid weight conversion units.\")\n",
        "\n",
        "def convert_volume(value, unit_from, unit_to):\n",
        "    \"\"\"\n",
        "    Convert volume between liters and gallons.\n",
        "\n",
        "    Parameters:\n",
        "        value (float): The numerical value to be converted.\n",
        "        unit_from (str): The unit of the input value ('L' or 'gal').\n",
        "        unit_to (str): The desired unit for the output value ('L' or 'gal').\n",
        "\n",
        "    Returns:\n",
        "        float: The converted value.\n",
        "    \"\"\"\n",
        "    if unit_from == \"L\" and unit_to == \"gal\":\n",
        "        return value * 0.264172\n",
        "    elif unit_from == \"gal\" and unit_to == \"L\":\n",
        "        return value / 0.264172\n",
        "    else:\n",
        "        raise ValueError(\"Invalid volume conversion units.\")\n",
        "\n",
        "def main():\n",
        "    print(\"Unit Conversion Program\")\n",
        "    print(\"Choose a type of conversion:\")\n",
        "    print(\"1. Length (meters to feet / feet to meters)\")\n",
        "    print(\"2. Weight (kilograms to pounds / pounds to kilograms)\")\n",
        "    print(\"3. Volume (liters to gallons / gallons to liters)\")\n",
        "\n",
        "    try:\n",
        "        choice = int(input(\"Enter the number of your choice: \"))\n",
        "\n",
        "        if choice == 1:\n",
        "            print(\"Length Conversion:\")\n",
        "            unit_from = input(\"Convert from (m/ft): \").strip().lower()\n",
        "            unit_to = \"ft\" if unit_from == \"m\" else \"m\"\n",
        "            value_input = input(f\"Enter value in {unit_from}: \").replace(',', '.')\n",
        "            value = float(value_input)\n",
        "            result = convert_length(value, unit_from, unit_to)\n",
        "            print(f\"{value} {unit_from} = {result:.2f} {unit_to}\")\n",
        "\n",
        "        elif choice == 2:\n",
        "            print(\"Weight Conversion:\")\n",
        "            unit_from = input(\"Convert from (kg/lbs): \").strip().lower()\n",
        "            unit_to = \"lbs\" if unit_from == \"kg\" else \"kg\"\n",
        "            value_input = input(f\"Enter value in {unit_from}: \").replace(',', '.')\n",
        "            value = float(value_input)\n",
        "            result = convert_weight(value, unit_from, unit_to)\n",
        "            print(f\"{value} {unit_from} = {result:.2f} {unit_to}\")\n",
        "\n",
        "        elif choice == 3:\n",
        "            print(\"Volume Conversion:\")\n",
        "            unit_from = input(\"Convert from (L/gal): \").strip().lower()\n",
        "            unit_from = unit_from.upper()\n",
        "            unit_to = \"gal\" if unit_from == \"L\" else \"L\"\n",
        "            value_input = input(f\"Enter value in {unit_from}: \").replace(',', '.')\n",
        "            value = float(value_input)\n",
        "            result = convert_volume(value, unit_from, unit_to)\n",
        "            print(f\"{value} {unit_from} = {result:.2f} {unit_to}\")\n",
        "\n",
        "        else:\n",
        "            print(\"Invalid choice. Please select a valid option.\")\n",
        "\n",
        "    except ValueError:\n",
        "        print(\"Invalid input. Please enter a numeric value using digits and a decimal point (e.g., 3.5).\")\n",
        "\n",
        "if __name__ == \"__main__\":\n",
        "    main()\n"
      ]
    },
    {
      "cell_type": "markdown",
      "source": [
        "#Task2\n"
      ],
      "metadata": {
        "id": "hiMmQZD8UJwC"
      }
    },
    {
      "cell_type": "code",
      "source": [
        "def calculate_sum(numbers):\n",
        "    \"\"\"\n",
        "    Calculate the sum of a list of numbers.\n",
        "\n",
        "    Parameters:\n",
        "        numbers (list of float): The list of numbers.\n",
        "\n",
        "    Returns:\n",
        "        float: The sum of the numbers.\n",
        "    \"\"\"\n",
        "    return sum(numbers)\n",
        "\n",
        "def calculate_average(numbers):\n",
        "    \"\"\"\n",
        "    Calculate the average of a list of numbers.\n",
        "\n",
        "    Parameters:\n",
        "        numbers (list of float): The list of numbers.\n",
        "\n",
        "    Returns:\n",
        "        float: The average of the numbers.\n",
        "    \"\"\"\n",
        "    if len(numbers) == 0:\n",
        "        raise ValueError(\"Cannot calculate average of an empty list.\")\n",
        "    return sum(numbers) / len(numbers)\n",
        "\n",
        "def find_maximum(numbers):\n",
        "    \"\"\"\n",
        "    Find the maximum number in a list.\n",
        "\n",
        "    Parameters:\n",
        "        numbers (list of float): The list of numbers.\n",
        "\n",
        "    Returns:\n",
        "        float: The maximum number.\n",
        "    \"\"\"\n",
        "    if len(numbers) == 0:\n",
        "        raise ValueError(\"Cannot find the maximum of an empty list.\")\n",
        "    return max(numbers)\n",
        "\n",
        "def find_minimum(numbers):\n",
        "    \"\"\"\n",
        "    Find the minimum number in a list.\n",
        "\n",
        "    Parameters:\n",
        "        numbers (list of float): The list of numbers.\n",
        "\n",
        "    Returns:\n",
        "        float: The minimum number.\n",
        "    \"\"\"\n",
        "    if len(numbers) == 0:\n",
        "        raise ValueError(\"Cannot find the minimum of an empty list.\")\n",
        "    return min(numbers)\n",
        "\n",
        "def main():\n",
        "    print(\"Mathematical Operations on a List of Numbers\")\n",
        "    print(\"Choose an operation:\")\n",
        "    print(\"1. Sum of the numbers\")\n",
        "    print(\"2. Average of the numbers\")\n",
        "    print(\"3. Maximum number\")\n",
        "    print(\"4. Minimum number\")\n",
        "\n",
        "    try:\n",
        "        choice = int(input(\"Enter the number of your choice: \"))\n",
        "\n",
        "        if choice not in [1, 2, 3, 4]:\n",
        "            print(\"Invalid choice. Please select a valid option.\")\n",
        "            return\n",
        "\n",
        "        # Get the list of numbers from the user\n",
        "        user_input = input(\"Enter a list of numbers (separated by spaces): \")\n",
        "        number_strings = user_input.split()\n",
        "        numbers = [float(num.replace(',', '.')) for num in number_strings]  # Handle commas and convert to float\n",
        "\n",
        "        if len(numbers) == 0:\n",
        "            print(\"The list is empty. Please enter at least one number.\")\n",
        "            return\n",
        "\n",
        "        # Perform the selected operation\n",
        "        if choice == 1:\n",
        "            result = calculate_sum(numbers)\n",
        "            print(f\"Sum of the numbers: {result}\")\n",
        "\n",
        "        elif choice == 2:\n",
        "            result = calculate_average(numbers)\n",
        "            print(f\"Average of the numbers: {result}\")\n",
        "\n",
        "        elif choice == 3:\n",
        "            result = find_maximum(numbers)\n",
        "            print(f\"Maximum number: {result}\")\n",
        "\n",
        "        elif choice == 4:\n",
        "            result = find_minimum(numbers)\n",
        "            print(f\"Minimum number: {result}\")\n",
        "\n",
        "    except ValueError:\n",
        "        print(\"Invalid input. Please enter numeric values separated by spaces.\")\n",
        "\n",
        "if __name__ == \"__main__\":\n",
        "    main()\n"
      ],
      "metadata": {
        "colab": {
          "base_uri": "https://localhost:8080/"
        },
        "id": "93u0xE2WUK07",
        "outputId": "72c53fe1-9e70-4304-c790-3ad89ce2616b"
      },
      "execution_count": null,
      "outputs": [
        {
          "output_type": "stream",
          "name": "stdout",
          "text": [
            "Mathematical Operations on a List of Numbers\n",
            "Choose an operation:\n",
            "1. Sum of the numbers\n",
            "2. Average of the numbers\n",
            "3. Maximum number\n",
            "4. Minimum number\n",
            "Enter the number of your choice: 1\n",
            "Enter a list of numbers (separated by spaces): 1, 2, 3\n",
            "Sum of the numbers: 6.0\n"
          ]
        }
      ]
    },
    {
      "cell_type": "markdown",
      "source": [
        "#4.2 Exercise on List Manipulation:"
      ],
      "metadata": {
        "id": "labBqe-7YWNl"
      }
    },
    {
      "cell_type": "markdown",
      "source": [
        "1. Extract Every Other Element:\n",
        "Write a Python function that extracts every other element from a list, starting from the first element."
      ],
      "metadata": {
        "id": "8N8LwHqXZPfT"
      }
    },
    {
      "cell_type": "code",
      "source": [
        "def extract_every_other(lst):\n",
        "    result = []\n",
        "    for i in range(0, len(lst), 2):\n",
        "        result.append(lst[i])\n",
        "    return result\n",
        "\n",
        "lst = [1, 3, 4, 2, 5, 6]\n",
        "result = extract_every_other(lst)\n",
        "print(result)\n"
      ],
      "metadata": {
        "colab": {
          "base_uri": "https://localhost:8080/"
        },
        "id": "bCDAqoZLbja4",
        "outputId": "f30387e6-9d6c-4b6f-8b20-549a40510606"
      },
      "execution_count": null,
      "outputs": [
        {
          "output_type": "stream",
          "name": "stdout",
          "text": [
            "[1, 4, 5]\n"
          ]
        }
      ]
    },
    {
      "cell_type": "markdown",
      "source": [
        "2. Slice a Sublist:\n",
        "Write a Python function that returns a sublist from a given list, starting from a specified index and\n",
        "ending at another specified index."
      ],
      "metadata": {
        "id": "G9uIqlfkZQdt"
      }
    },
    {
      "cell_type": "code",
      "source": [
        "def get_sublist(lst, start, end):\n",
        "    return lst[start:end+1]\n",
        "lst = [1, 2, 3, 4, 5, 6]\n",
        "result = get_sublist(lst, 1, 4)\n",
        "print(result)  # Output: [3, 4, 5]\n"
      ],
      "metadata": {
        "colab": {
          "base_uri": "https://localhost:8080/"
        },
        "id": "cUfm_jU7Y9kJ",
        "outputId": "91e6b45c-38c7-4a61-d5a0-4990cefa9d48"
      },
      "execution_count": null,
      "outputs": [
        {
          "output_type": "stream",
          "name": "stdout",
          "text": [
            "[2, 3, 4, 5]\n"
          ]
        }
      ]
    },
    {
      "cell_type": "markdown",
      "source": [
        "3. Reverse a List Using Slicing:\n",
        "Write a Python function that reverses a list using slicing."
      ],
      "metadata": {
        "id": "Pdsrl38UaIDl"
      }
    },
    {
      "cell_type": "code",
      "source": [
        "def reverse_list(lst):\n",
        "    lst.reverse()\n",
        "    return lst\n",
        "\n",
        "lst = [1, 2, 3, 4, 5]\n",
        "result = reverse_list(lst)\n",
        "print(result)\n"
      ],
      "metadata": {
        "colab": {
          "base_uri": "https://localhost:8080/"
        },
        "id": "lO6uJkxgbTXX",
        "outputId": "bdce2c2d-ae06-4ed6-f003-925475b8af18"
      },
      "execution_count": null,
      "outputs": [
        {
          "output_type": "stream",
          "name": "stdout",
          "text": [
            "[5, 4, 3, 2, 1]\n"
          ]
        }
      ]
    },
    {
      "cell_type": "markdown",
      "source": [
        "4. Remove the First and Last Elements:\n",
        "Write a Python function that removes the first and last elements of a list and returns the resulting\n",
        "sublist."
      ],
      "metadata": {
        "id": "qju7QRcUaQj6"
      }
    },
    {
      "cell_type": "code",
      "source": [
        "def remove_first_last(lst):\n",
        "    result = []\n",
        "    for i in range(1, len(lst) - 1):\n",
        "        result.append(lst[i])\n",
        "    return result\n",
        "\n",
        "lst = [1, 2, 3, 4, 5]\n",
        "result = remove_first_last(lst)\n",
        "print(result)  # Output: [2, 3, 4]\n"
      ],
      "metadata": {
        "colab": {
          "base_uri": "https://localhost:8080/"
        },
        "id": "BGH1JTkhnOxQ",
        "outputId": "21973021-8bd7-417f-a99e-0c89fb31717a"
      },
      "execution_count": null,
      "outputs": [
        {
          "output_type": "stream",
          "name": "stdout",
          "text": [
            "[2, 3, 4]\n"
          ]
        }
      ]
    },
    {
      "cell_type": "markdown",
      "source": [
        "5. Get the First n Elements:\n",
        "Write a Python function that extracts the first n elements from a list."
      ],
      "metadata": {
        "id": "PFWkCAM1brnv"
      }
    },
    {
      "cell_type": "code",
      "source": [
        "def get_first_n(lst, n):\n",
        "    return [lst[i] for i in range(n)]\n",
        "lst = [1, 2, 3, 4, 5]\n",
        "result = get_first_n(lst, 3)\n",
        "print(result)\n"
      ],
      "metadata": {
        "colab": {
          "base_uri": "https://localhost:8080/"
        },
        "id": "iZZpRTXIaRN4",
        "outputId": "c1ce9eff-f54a-45cb-ce37-e90739f51e5d"
      },
      "execution_count": null,
      "outputs": [
        {
          "output_type": "stream",
          "name": "stdout",
          "text": [
            "[1, 2, 3]\n"
          ]
        }
      ]
    },
    {
      "cell_type": "markdown",
      "source": [
        "6. Extract Elements from the End:\n",
        "Write a Python function that extracts the last n elements of a list using slicing."
      ],
      "metadata": {
        "id": "jhk-Dtq9e_0o"
      }
    },
    {
      "cell_type": "code",
      "source": [
        "def slice(lst, n):\n",
        "    return lst[len(lst) - n:]\n",
        "\n",
        "lst = [1, 2, 3, 9, 5]\n",
        "result = slice(lst, 2)\n",
        "print(result)"
      ],
      "metadata": {
        "colab": {
          "base_uri": "https://localhost:8080/"
        },
        "id": "PYbjDRMUfCi6",
        "outputId": "156d97e8-95fa-4e61-b0f8-2700dda09080"
      },
      "execution_count": null,
      "outputs": [
        {
          "output_type": "stream",
          "name": "stdout",
          "text": [
            "[9, 5]\n"
          ]
        }
      ]
    },
    {
      "cell_type": "markdown",
      "source": [
        "7. Extract Elements in Reverse Order:\n",
        "Write a Python function that extracts a list of elements in reverse order starting from the second-to-last\n",
        "element and skipping one element in between."
      ],
      "metadata": {
        "id": "wYaLzlel-WzG"
      }
    },
    {
      "cell_type": "code",
      "source": [
        "def reverse_order(lst):\n",
        "    return lst[-2::-2]\n",
        "\n",
        "print(reverse_order([1, 2, 3, 4, 5, 6]))\n"
      ],
      "metadata": {
        "colab": {
          "base_uri": "https://localhost:8080/"
        },
        "id": "cBOgreBb-Zo3",
        "outputId": "7be1a411-df6e-4bd4-bc63-94a81bcf7b22"
      },
      "execution_count": null,
      "outputs": [
        {
          "output_type": "stream",
          "name": "stdout",
          "text": [
            "[5, 3, 1]\n"
          ]
        }
      ]
    },
    {
      "cell_type": "markdown",
      "source": [
        "#4.3 Exercise on Nested List:\n",
        "1. Flatten a Nested List:\n",
        "Write a Python function that takes a nested list and flattens it into a single list, where all the elements\n",
        "are in a single dimension."
      ],
      "metadata": {
        "id": "Af-jI4vuA_xz"
      }
    },
    {
      "cell_type": "code",
      "source": [
        "def flatten(lst):\n",
        "    return [item for sublist in lst for item in sublist]\n",
        "\n",
        "print(flatten([[1, 2], [3, 4], [5]]))\n",
        "\n"
      ],
      "metadata": {
        "colab": {
          "base_uri": "https://localhost:8080/"
        },
        "id": "AB119OXpBAyc",
        "outputId": "2d5f87cb-edd6-482f-ca46-afb606dbb145"
      },
      "execution_count": null,
      "outputs": [
        {
          "output_type": "stream",
          "name": "stdout",
          "text": [
            "[1, 2, 3, 4, 5]\n"
          ]
        }
      ]
    },
    {
      "cell_type": "markdown",
      "source": [
        "2. Accessing Nested List Elements:\n",
        "\n",
        "Write a Python function that extracts a specific element from a nested list given its indices.\n",
        "\n",
        "• Requirements:\n",
        "– Define a function access nested element(lst, indices) that takes a nested list lst and\n",
        "a list of indices indices, and returns the element at that position."
      ],
      "metadata": {
        "id": "joS-tHNVBzaQ"
      }
    },
    {
      "cell_type": "code",
      "source": [
        "def access_nested_element(lst, indices):\n",
        "    element = lst\n",
        "    for index in indices:\n",
        "        element = element[index]\n",
        "    return element\n",
        "\n",
        "lst = [[1, 2, 3], [4, 5, 6], [7, 8, 9]]\n",
        "indices = [1, 2]\n",
        "\n",
        "print(access_nested_element(lst, indices))\n"
      ],
      "metadata": {
        "colab": {
          "base_uri": "https://localhost:8080/"
        },
        "id": "E2OgqfU2By2Z",
        "outputId": "926d9cf8-8f65-4ff8-c6f5-cb754ac8d59e"
      },
      "execution_count": null,
      "outputs": [
        {
          "output_type": "stream",
          "name": "stdout",
          "text": [
            "6\n"
          ]
        }
      ]
    },
    {
      "cell_type": "markdown",
      "source": [
        "3. Sum of All Elements in a Nested List:\n",
        "\n",
        "Write a Python function that calculates the sum of all the numbers in a nested list (regardless of depth).\n",
        "• Requirements:\n",
        "– Define a function sum nested(lst) that takes a nested list lst and returns the sum of all\n",
        "the elements."
      ],
      "metadata": {
        "id": "EWeKjnJjDNfL"
      }
    },
    {
      "cell_type": "code",
      "source": [
        "def sum_nested(lst):\n",
        "    total = 0\n",
        "    for element in lst:\n",
        "        if isinstance(element, list):\n",
        "            total += sum_nested(element)\n",
        "        else:\n",
        "            total += element\n",
        "    return total\n",
        "\n",
        "lst = [[1, 2], [3, [4, 5]], 6]\n",
        "print(sum_nested(lst))"
      ],
      "metadata": {
        "colab": {
          "base_uri": "https://localhost:8080/"
        },
        "id": "4x_uEcRNDOVe",
        "outputId": "b632f1cc-2b80-4b61-a4e4-897b1a5f1772"
      },
      "execution_count": null,
      "outputs": [
        {
          "output_type": "stream",
          "name": "stdout",
          "text": [
            "21\n"
          ]
        }
      ]
    },
    {
      "cell_type": "markdown",
      "source": [
        "4. Remove Specific Element from a Nested List:\n",
        "\n",
        "Write a Python function that removes all occurrences of a specific element from a nested list.\n",
        "\n",
        "• Requirements:\n",
        "– Define a function remove element(lst, elem) that removes elem from lst and returns the\n",
        "modified list."
      ],
      "metadata": {
        "id": "MxWNHK39EI_d"
      }
    },
    {
      "cell_type": "code",
      "source": [
        "def remove_element(lst, elem):\n",
        "    result = []\n",
        "    for item in lst:\n",
        "        if isinstance(item, list):\n",
        "            result.append(remove_element(item, elem))\n",
        "        elif item != elem:\n",
        "            result.append(item)\n",
        "    return result\n",
        "\n",
        "lst = [[1, 2, 3],  [4, 2], [5]]\n",
        "elem = 2\n",
        "print(remove_element(lst, elem))"
      ],
      "metadata": {
        "colab": {
          "base_uri": "https://localhost:8080/"
        },
        "id": "NQsjw0JNEK5X",
        "outputId": "3ed1723c-612a-4b78-d75e-2635de2b3c06"
      },
      "execution_count": null,
      "outputs": [
        {
          "output_type": "stream",
          "name": "stdout",
          "text": [
            "[[1, 3], [4], [5]]\n"
          ]
        }
      ]
    },
    {
      "cell_type": "markdown",
      "source": [
        "5. Find the Maximum Element in a Nested List:\n",
        "Write a Python function that finds the maximum element in a nested list (regardless of depth).\n",
        "\n",
        "• Requirements:\n",
        "– Define a function find max(lst) that takes a nested list lst and returns the maximum\n",
        "element."
      ],
      "metadata": {
        "id": "1UMYPy8DFSda"
      }
    },
    {
      "cell_type": "code",
      "source": [
        "def find_max(lst):\n",
        "    max_val = lst[0]\n",
        "    for item in lst:\n",
        "        if isinstance(item, list):\n",
        "            max_val = max(max_val, find_max(item))\n",
        "        else:\n",
        "            max_val = max(max_val, item)  #\n",
        "    return max_val\n",
        "\n",
        "\n",
        "nested_list = [1, [2, 3, [4, 5]], 6, [7, 8], 9]\n",
        "print(find_max(nested_list))\n"
      ],
      "metadata": {
        "colab": {
          "base_uri": "https://localhost:8080/"
        },
        "id": "RrzlTujAFLfq",
        "outputId": "75559eae-81ba-4a58-d0d5-8ca69ab6ae1f"
      },
      "execution_count": null,
      "outputs": [
        {
          "output_type": "stream",
          "name": "stdout",
          "text": [
            "9\n"
          ]
        }
      ]
    },
    {
      "cell_type": "markdown",
      "source": [
        "6. Count Occurrences of an Element in a Nested List:\n",
        "Write a Python function that counts how many times a specific element appears in a nested list.\n",
        "\n",
        "• Requirements:\n",
        "– Define a function count occurrences(lst, elem) that counts the occurrences of elem in\n",
        "the nested list lst."
      ],
      "metadata": {
        "id": "Y1a6hyPDG5Ui"
      }
    },
    {
      "cell_type": "code",
      "source": [
        "def get_last_n(lst, n):\n",
        "    return lst[-n:]\n",
        "\n",
        "my_list = [1, 2, 3, 4, 5, 6, 7]\n",
        "print(get_last_n(my_list, 3))\n"
      ],
      "metadata": {
        "colab": {
          "base_uri": "https://localhost:8080/"
        },
        "id": "jYdfaAnbG8Ts",
        "outputId": "01a968d1-a2aa-40c4-8329-80c4b2247ba8"
      },
      "execution_count": null,
      "outputs": [
        {
          "output_type": "stream",
          "name": "stdout",
          "text": [
            "[5, 6, 7]\n"
          ]
        }
      ]
    },
    {
      "cell_type": "markdown",
      "source": [
        "7. Flatten a List of Lists of Lists:\n",
        "Write a Python function that flattens a list of lists of lists into a single list, regardless of the depth.\n",
        "\n",
        "• Requirements:\n",
        "– Define a function deep flatten(lst) that takes a deeply nested list lst and returns a single\n",
        "flattened list."
      ],
      "metadata": {
        "id": "yUrWGk0EINQn"
      }
    },
    {
      "cell_type": "code",
      "source": [
        "def deep_flatten(lst):\n",
        "    flat_list = []\n",
        "    for item in lst:\n",
        "        if isinstance(item, list):\n",
        "            flat_list.extend(deep_flatten(item))\n",
        "        else:\n",
        "            flat_list.append(item)\n",
        "    return flat_list\n",
        "\n",
        "nested_list = [1, [2, [3, [4, 5]]], 6, [7, 8], 9]\n",
        "print(deep_flatten(nested_list))"
      ],
      "metadata": {
        "colab": {
          "base_uri": "https://localhost:8080/"
        },
        "id": "f0uPoEV5Hu84",
        "outputId": "be7867da-b49e-41af-b010-3acd4f0951a4"
      },
      "execution_count": null,
      "outputs": [
        {
          "output_type": "stream",
          "name": "stdout",
          "text": [
            "[1, 2, 3, 4, 5, 6, 7, 8, 9]\n"
          ]
        }
      ]
    },
    {
      "cell_type": "markdown",
      "source": [
        "8. Nested List Average:\n",
        "\n",
        "Write a Python function that calculates the average of all elements in a nested list.\n",
        "\n",
        "• Requirements:\n",
        "– Define a function average nested(lst) that takes a nested list lst and returns the average\n",
        "of all the elements."
      ],
      "metadata": {
        "id": "s8RRuisjI3yY"
      }
    },
    {
      "cell_type": "code",
      "source": [
        "def average_nested(lst):\n",
        "    flattened_list = [item for sublist in lst for item in sublist]\n",
        "    return sum(flattened_list) / len(flattened_list) if flattened_list else 0\n",
        "\n",
        "nested_list = [[1, 2], [3, 4], [5, 6]]\n",
        "result = average_nested(nested_list)\n",
        "print(result)\n"
      ],
      "metadata": {
        "colab": {
          "base_uri": "https://localhost:8080/"
        },
        "id": "GCZ1Fms4I4yX",
        "outputId": "53a1b284-41d1-42eb-95d9-a0efec7d8dc3"
      },
      "execution_count": null,
      "outputs": [
        {
          "output_type": "stream",
          "name": "stdout",
          "text": [
            "3.5\n"
          ]
        }
      ]
    },
    {
      "cell_type": "markdown",
      "source": [
        "5 About a Numpy."
      ],
      "metadata": {
        "id": "74MyiEN7Lkyi"
      }
    },
    {
      "cell_type": "markdown",
      "source": [
        "#Problem - 1: Array Creation:"
      ],
      "metadata": {
        "id": "5ie-H1GqOCEj"
      }
    },
    {
      "cell_type": "markdown",
      "source": [
        "1. Initialize an empty array with size 2X2."
      ],
      "metadata": {
        "id": "4_R8y9VoMufc"
      }
    },
    {
      "cell_type": "code",
      "source": [
        "import numpy as np"
      ],
      "metadata": {
        "id": "WYcPdtoxLlbL"
      },
      "execution_count": null,
      "outputs": []
    },
    {
      "cell_type": "code",
      "source": [
        "array = np.zeros((2, 2))\n",
        "print(array)\n"
      ],
      "metadata": {
        "colab": {
          "base_uri": "https://localhost:8080/"
        },
        "id": "QnkISdr9NqC7",
        "outputId": "23fec518-7ab8-4cc4-98ad-0e50c54ca625"
      },
      "execution_count": null,
      "outputs": [
        {
          "output_type": "stream",
          "name": "stdout",
          "text": [
            "[[0. 0.]\n",
            " [0. 0.]]\n"
          ]
        }
      ]
    },
    {
      "cell_type": "markdown",
      "source": [
        "2. Initialize an all one array with size 4X2."
      ],
      "metadata": {
        "id": "oRej4ZO0N3Vv"
      }
    },
    {
      "cell_type": "code",
      "source": [
        "array = np.ones((4, 2))\n",
        "print(array)"
      ],
      "metadata": {
        "colab": {
          "base_uri": "https://localhost:8080/"
        },
        "id": "K3NT2j1TNx5Z",
        "outputId": "99c51d3c-6dba-4509-c7a6-312803da0653"
      },
      "execution_count": null,
      "outputs": [
        {
          "output_type": "stream",
          "name": "stdout",
          "text": [
            "[[1. 1.]\n",
            " [1. 1.]\n",
            " [1. 1.]\n",
            " [1. 1.]]\n"
          ]
        }
      ]
    },
    {
      "cell_type": "markdown",
      "source": [
        "3. Return a new array of given shape and type, filled with fill value.{Hint: np.full}"
      ],
      "metadata": {
        "id": "_pq6b-dbOF28"
      }
    },
    {
      "cell_type": "code",
      "source": [
        "shape = (2, 3)\n",
        "fillvalue = 7\n",
        "new_array = np.full(shape, fillvalue)\n",
        "print(new_array)"
      ],
      "metadata": {
        "colab": {
          "base_uri": "https://localhost:8080/"
        },
        "id": "xW5Po_8vOJKO",
        "outputId": "81ca8639-6350-47a0-8ce5-df0eab3cae66"
      },
      "execution_count": null,
      "outputs": [
        {
          "output_type": "stream",
          "name": "stdout",
          "text": [
            "[[7 7 7]\n",
            " [7 7 7]]\n"
          ]
        }
      ]
    },
    {
      "cell_type": "markdown",
      "source": [
        "4. Return a new array of zeros with same shape and type as a given array.{Hint: np.zeros like}"
      ],
      "metadata": {
        "id": "WdLqctBTO9Eu"
      }
    },
    {
      "cell_type": "code",
      "source": [
        "array = np.array([[1, 2], [3, 4]])\n",
        "new_array_zeros = np.zeros_like(array)\n",
        "print(new_array_zeros)"
      ],
      "metadata": {
        "colab": {
          "base_uri": "https://localhost:8080/"
        },
        "id": "glSKLFO5O965",
        "outputId": "334fb039-d5e3-40e8-f803-8e37ec23636a"
      },
      "execution_count": null,
      "outputs": [
        {
          "output_type": "stream",
          "name": "stdout",
          "text": [
            "[[0 0]\n",
            " [0 0]]\n"
          ]
        }
      ]
    },
    {
      "cell_type": "markdown",
      "source": [
        "5. Return a new array of ones with same shape and type as a given array.{Hint: np.ones like}"
      ],
      "metadata": {
        "id": "JZ25cmvgPaOx"
      }
    },
    {
      "cell_type": "code",
      "source": [
        "array = np.array([[1, 2], [3, 4]])\n",
        "new_array_ones = np.ones_like(array)\n",
        "print(new_array_ones)"
      ],
      "metadata": {
        "colab": {
          "base_uri": "https://localhost:8080/"
        },
        "id": "tUqd2VArPc2M",
        "outputId": "437f70d0-131e-4a51-a255-d74ad03d708d"
      },
      "execution_count": null,
      "outputs": [
        {
          "output_type": "stream",
          "name": "stdout",
          "text": [
            "[[1 1]\n",
            " [1 1]]\n"
          ]
        }
      ]
    },
    {
      "cell_type": "markdown",
      "source": [
        "6. For an existing list new_list = [1,2,3,4] convert to an numpy array.{Hint: np.array()}"
      ],
      "metadata": {
        "id": "KWU3MG-0QUDm"
      }
    },
    {
      "cell_type": "code",
      "source": [
        "new_list = [1, 2, 3, 4]\n",
        "array = np.array(new_list)\n",
        "print(array)"
      ],
      "metadata": {
        "colab": {
          "base_uri": "https://localhost:8080/"
        },
        "id": "f74PERTbQLNc",
        "outputId": "b3e5eba2-9d52-4a43-cb6d-009a16475c06"
      },
      "execution_count": null,
      "outputs": [
        {
          "output_type": "stream",
          "name": "stdout",
          "text": [
            "[1 2 3 4]\n"
          ]
        }
      ]
    },
    {
      "cell_type": "markdown",
      "source": [
        "#Problem - 2: Array Manipulation: Numerical Ranges and Array indexing:"
      ],
      "metadata": {
        "id": "opKT5xKvQcHl"
      }
    },
    {
      "cell_type": "markdown",
      "source": [
        "1. Create an array with values ranging from 10 to 49. {Hint:np.arrange()}."
      ],
      "metadata": {
        "id": "k9IbIykIRUUa"
      }
    },
    {
      "cell_type": "code",
      "source": [
        "import numpy as np"
      ],
      "metadata": {
        "id": "wd-LNxXnQeP9"
      },
      "execution_count": null,
      "outputs": []
    },
    {
      "cell_type": "code",
      "source": [
        "array = np.arange(10, 50)\n",
        "print(array)"
      ],
      "metadata": {
        "colab": {
          "base_uri": "https://localhost:8080/"
        },
        "id": "2wQ2IKU8RqF-",
        "outputId": "13b36dbc-4a3a-432d-fcd0-ee62e0404f63"
      },
      "execution_count": null,
      "outputs": [
        {
          "output_type": "stream",
          "name": "stdout",
          "text": [
            "[10 11 12 13 14 15 16 17 18 19 20 21 22 23 24 25 26 27 28 29 30 31 32 33\n",
            " 34 35 36 37 38 39 40 41 42 43 44 45 46 47 48 49]\n"
          ]
        }
      ]
    },
    {
      "cell_type": "markdown",
      "source": [
        "2. Create a 3X3 matrix with values ranging from 0 to 8.\n",
        "{Hint:look for np.reshape()}"
      ],
      "metadata": {
        "id": "Nw4Z_VEKRuQu"
      }
    },
    {
      "cell_type": "code",
      "source": [
        "range = np.arange(9)\n",
        "matrix = range.reshape(3, 3)\n",
        "print(matrix)"
      ],
      "metadata": {
        "colab": {
          "base_uri": "https://localhost:8080/"
        },
        "id": "q5JMBpteRu7n",
        "outputId": "f1d81b1a-7e6b-41a8-9f2b-29921365a4ed"
      },
      "execution_count": null,
      "outputs": [
        {
          "output_type": "stream",
          "name": "stdout",
          "text": [
            "[[0 1 2]\n",
            " [3 4 5]\n",
            " [6 7 8]]\n"
          ]
        }
      ]
    },
    {
      "cell_type": "markdown",
      "source": [
        "3. Create a 3X3 identity matrix.{Hint:np.eye()}"
      ],
      "metadata": {
        "id": "mGevnEtgSRDe"
      }
    },
    {
      "cell_type": "code",
      "source": [
        "matrix = np.eye(3)\n",
        "print(matrix)"
      ],
      "metadata": {
        "colab": {
          "base_uri": "https://localhost:8080/"
        },
        "id": "A9NA-BMhSRxO",
        "outputId": "9ad07ba3-18e9-4395-caf1-be5b53dd0078"
      },
      "execution_count": null,
      "outputs": [
        {
          "output_type": "stream",
          "name": "stdout",
          "text": [
            "[[1. 0. 0.]\n",
            " [0. 1. 0.]\n",
            " [0. 0. 1.]]\n"
          ]
        }
      ]
    },
    {
      "cell_type": "markdown",
      "source": [
        "4. Create a random array of size 30 and find the mean of the array.\n",
        "{Hint:check for np.random.random() and array.mean() function}"
      ],
      "metadata": {
        "id": "1NuZG4J9Selu"
      }
    },
    {
      "cell_type": "code",
      "source": [
        "random_array = np.random.random(30)\n",
        "mean_value = random_array.mean()\n",
        "print(\"Random array:\", random_array)\n",
        "print(\"Mean of the array:\", mean_value)"
      ],
      "metadata": {
        "colab": {
          "base_uri": "https://localhost:8080/"
        },
        "id": "nLdY67Xlgo9e",
        "outputId": "64747a5e-30f2-411c-c23d-3a606b2f6959"
      },
      "execution_count": null,
      "outputs": [
        {
          "output_type": "stream",
          "name": "stdout",
          "text": [
            "Random array: [0.14481179 0.36428201 0.13427571 0.71299141 0.00241934 0.85266589\n",
            " 0.52427226 0.0396794  0.25890443 0.31856376 0.72732843 0.00850124\n",
            " 0.0153848  0.44404017 0.58444083 0.15540793 0.03387194 0.62195584\n",
            " 0.71679387 0.1352463  0.14726647 0.45910275 0.88519695 0.77400131\n",
            " 0.64490142 0.37479429 0.0551181  0.13507668 0.60915003 0.19280967]\n",
            "Mean of the array: 0.36910850137403084\n"
          ]
        }
      ]
    },
    {
      "cell_type": "markdown",
      "source": [
        "5. Create a 10X10 array with random values and find the minimum and maximum values."
      ],
      "metadata": {
        "id": "sHVW4WBQSfXS"
      }
    },
    {
      "cell_type": "code",
      "source": [
        "random_array = np.random.random((10, 10))\n",
        "min_value = random_array.min()\n",
        "max_value = random_array.max()\n",
        "print(\"Random 10x10 array:\\n\", random_array)\n",
        "print(\"Minimum value:\", min_value)\n",
        "print(\"Maximum value:\", max_value)"
      ],
      "metadata": {
        "colab": {
          "base_uri": "https://localhost:8080/"
        },
        "id": "VIRokoFVhSVk",
        "outputId": "8933c68e-aa00-4719-e8bc-6ab780984b49"
      },
      "execution_count": null,
      "outputs": [
        {
          "output_type": "stream",
          "name": "stdout",
          "text": [
            "Random 10x10 array:\n",
            " [[0.79727046 0.13647385 0.66753655 0.65189884 0.41041832 0.27425351\n",
            "  0.13478318 0.74394314 0.58603874 0.27410252]\n",
            " [0.70763271 0.27439517 0.38207203 0.99775129 0.52452896 0.35039254\n",
            "  0.6279457  0.3179179  0.18605873 0.59991903]\n",
            " [0.27585285 0.55281225 0.94162021 0.70552931 0.49742167 0.61395867\n",
            "  0.54468112 0.65571023 0.8389041  0.70909718]\n",
            " [0.93231844 0.97506015 0.92810036 0.17743917 0.34554371 0.67900583\n",
            "  0.06150746 0.38885945 0.14097629 0.93846814]\n",
            " [0.93893799 0.27669717 0.20467885 0.10272633 0.07171132 0.42739899\n",
            "  0.3512028  0.98561781 0.74869197 0.59042275]\n",
            " [0.79089935 0.50066649 0.18914367 0.16121663 0.68416226 0.39572863\n",
            "  0.51964493 0.51964587 0.16110333 0.68157656]\n",
            " [0.79015776 0.13425382 0.71717478 0.95653318 0.95628378 0.77223994\n",
            "  0.19497789 0.61907704 0.93195597 0.14533232]\n",
            " [0.3339268  0.49158381 0.87502409 0.45344284 0.71856652 0.68013636\n",
            "  0.59690435 0.37983268 0.43475923 0.5482278 ]\n",
            " [0.83063918 0.29448727 0.88189327 0.07818023 0.04945521 0.92944245\n",
            "  0.94189897 0.78125462 0.05172028 0.25819706]\n",
            " [0.9159896  0.68019505 0.13521575 0.92409278 0.76506629 0.78872774\n",
            "  0.48542542 0.92862969 0.68761591 0.242567  ]]\n",
            "Minimum value: 0.0494552146543058\n",
            "Maximum value: 0.9977512909007609\n"
          ]
        }
      ]
    },
    {
      "cell_type": "markdown",
      "source": [
        "6. Create a zero array of size 10 and replace 5th element with 1.\n"
      ],
      "metadata": {
        "id": "YMRUfwk6ShgW"
      }
    },
    {
      "cell_type": "code",
      "source": [
        "z_array = np.zeros(10)\n",
        "z_array[4] = 1\n",
        "print(z_array)"
      ],
      "metadata": {
        "colab": {
          "base_uri": "https://localhost:8080/"
        },
        "id": "dhOOqlgIh6qm",
        "outputId": "d6137455-4619-4179-d2cc-b9b6bb7b2f14"
      },
      "execution_count": null,
      "outputs": [
        {
          "output_type": "stream",
          "name": "stdout",
          "text": [
            "[0. 0. 0. 0. 1. 0. 0. 0. 0. 0.]\n"
          ]
        }
      ]
    },
    {
      "cell_type": "markdown",
      "source": [
        "7. Reverse an array arr = [1,2,0,0,4,0].\n"
      ],
      "metadata": {
        "id": "y9QK7GUHSlPy"
      }
    },
    {
      "cell_type": "code",
      "source": [
        "arr = [1, 2, 0, 0, 4, 0]\n",
        "reversed_arr = arr[::-1]\n",
        "print(reversed_arr)\n"
      ],
      "metadata": {
        "colab": {
          "base_uri": "https://localhost:8080/"
        },
        "id": "8s6OxHmBiTaf",
        "outputId": "d78bc1de-eea7-466d-b295-955e8d242933"
      },
      "execution_count": null,
      "outputs": [
        {
          "output_type": "stream",
          "name": "stdout",
          "text": [
            "[0, 4, 0, 0, 2, 1]\n"
          ]
        }
      ]
    },
    {
      "cell_type": "markdown",
      "source": [
        "8. Create a 2d array with 1 on border and 0 inside.\n"
      ],
      "metadata": {
        "id": "ecJWrGIsSmy1"
      }
    },
    {
      "cell_type": "code",
      "source": [
        "rows, cols = 5, 5\n",
        "array = np.ones((rows, cols))\n",
        "array[1:-1, 1:-1] = 0\n",
        "print(array)"
      ],
      "metadata": {
        "colab": {
          "base_uri": "https://localhost:8080/"
        },
        "id": "bPar0vkfiulK",
        "outputId": "a9342160-d1d8-4506-cb47-eff9bf97d044"
      },
      "execution_count": null,
      "outputs": [
        {
          "output_type": "stream",
          "name": "stdout",
          "text": [
            "[[1. 1. 1. 1. 1.]\n",
            " [1. 0. 0. 0. 1.]\n",
            " [1. 0. 0. 0. 1.]\n",
            " [1. 0. 0. 0. 1.]\n",
            " [1. 1. 1. 1. 1.]]\n"
          ]
        }
      ]
    },
    {
      "cell_type": "markdown",
      "source": [
        "\n",
        "9. Create a 8X8 matrix and fill it with a checkerboard pattern."
      ],
      "metadata": {
        "id": "Cfd5vyy_Sp4Z"
      }
    },
    {
      "cell_type": "code",
      "source": [
        "checkerboard = np.zeros((8, 8))\n",
        "checkerboard[1::2, ::2] = 1\n",
        "checkerboard[::2, 1::2] = 1\n",
        "print(checkerboard)"
      ],
      "metadata": {
        "colab": {
          "base_uri": "https://localhost:8080/"
        },
        "id": "0S2mBiFbjGfW",
        "outputId": "9c5e19a0-da17-4bd0-c746-dcb04321e231"
      },
      "execution_count": null,
      "outputs": [
        {
          "output_type": "stream",
          "name": "stdout",
          "text": [
            "[[0. 1. 0. 1. 0. 1. 0. 1.]\n",
            " [1. 0. 1. 0. 1. 0. 1. 0.]\n",
            " [0. 1. 0. 1. 0. 1. 0. 1.]\n",
            " [1. 0. 1. 0. 1. 0. 1. 0.]\n",
            " [0. 1. 0. 1. 0. 1. 0. 1.]\n",
            " [1. 0. 1. 0. 1. 0. 1. 0.]\n",
            " [0. 1. 0. 1. 0. 1. 0. 1.]\n",
            " [1. 0. 1. 0. 1. 0. 1. 0.]]\n"
          ]
        }
      ]
    },
    {
      "cell_type": "markdown",
      "source": [
        "#Problem - 3: Array Operations:"
      ],
      "metadata": {
        "id": "Ub4g6TKoSwSu"
      }
    },
    {
      "cell_type": "markdown",
      "source": [
        "For the following arrays:\n",
        "\n",
        "x = np.array([[1,2],[3,5]]) and y = np.array([[5,6],[7,8]]);\n",
        "\n",
        "v = np.array([9,10]) and w = np.array([11,12]);\n",
        "\n",
        "Complete all the task using numpy:"
      ],
      "metadata": {
        "id": "Jg_w7qscSrXH"
      }
    },
    {
      "cell_type": "markdown",
      "source": [
        "1. Add the two array."
      ],
      "metadata": {
        "id": "ul6pqvKU5yI9"
      }
    },
    {
      "cell_type": "code",
      "source": [
        "import numpy as np\n",
        "x = np.array([[1, 2], [3, 5]])\n",
        "y = np.array([[5, 6], [7, 8]])\n",
        "v = np.array([9, 10])\n",
        "w = np.array([11, 12])\n"
      ],
      "metadata": {
        "id": "VU0o_sy95xbK"
      },
      "execution_count": null,
      "outputs": []
    },
    {
      "cell_type": "code",
      "source": [
        "add_array = x + y\n",
        "print(\"Addition of x and y:\\n\", add_array)\n"
      ],
      "metadata": {
        "colab": {
          "base_uri": "https://localhost:8080/"
        },
        "id": "LdNyV25Z5tGL",
        "outputId": "bbd514c6-2818-4ce8-dd84-cda990695103"
      },
      "execution_count": null,
      "outputs": [
        {
          "output_type": "stream",
          "name": "stdout",
          "text": [
            "Addition of x and y:\n",
            " [[ 6  8]\n",
            " [10 13]]\n"
          ]
        }
      ]
    },
    {
      "cell_type": "markdown",
      "source": [
        "2. Subtract the two array."
      ],
      "metadata": {
        "id": "K1UQddDX6RuF"
      }
    },
    {
      "cell_type": "code",
      "source": [
        "subtract_array = x - y\n",
        "print(\"Subtraction of x and y:\\n\", subtract_array)\n"
      ],
      "metadata": {
        "colab": {
          "base_uri": "https://localhost:8080/"
        },
        "id": "aGdwLyMt6Sil",
        "outputId": "ec4032dd-3f6f-4ba9-d3a7-eec8479bf352"
      },
      "execution_count": null,
      "outputs": [
        {
          "output_type": "stream",
          "name": "stdout",
          "text": [
            "Subtraction of x and y:\n",
            " [[-4 -4]\n",
            " [-4 -3]]\n"
          ]
        }
      ]
    },
    {
      "cell_type": "markdown",
      "source": [
        "3. Multiply the array with any integers of your choice."
      ],
      "metadata": {
        "id": "00Q_BLVt6iFp"
      }
    },
    {
      "cell_type": "code",
      "source": [
        "x_multiply = x * 4\n",
        "y_multiply = y * 5\n",
        "print(\"x multiplied by 2:\\n\", x_multiply, \"\\n\")\n",
        "print(\"y multiplied by 3:\\n\", y_multiply)"
      ],
      "metadata": {
        "colab": {
          "base_uri": "https://localhost:8080/"
        },
        "id": "hMAepyd56iqv",
        "outputId": "7f99e5b6-6171-4fe6-f463-e151f95f55df"
      },
      "execution_count": null,
      "outputs": [
        {
          "output_type": "stream",
          "name": "stdout",
          "text": [
            "x multiplied by 2:\n",
            " [[ 4  8]\n",
            " [12 20]] \n",
            "\n",
            "y multiplied by 3:\n",
            " [[25 30]\n",
            " [35 40]]\n"
          ]
        }
      ]
    },
    {
      "cell_type": "markdown",
      "source": [
        "4. Find the square of each element of the array."
      ],
      "metadata": {
        "id": "ZFno-6dJ7RW7"
      }
    },
    {
      "cell_type": "code",
      "source": [
        "a = np.square(x)\n",
        "b = np.square(y)\n",
        "print(\"Square of each element of x:\\n\", a, \"\\n\")\n",
        "print(\"Square of each element of y:\\n\", b)"
      ],
      "metadata": {
        "colab": {
          "base_uri": "https://localhost:8080/"
        },
        "id": "4c0MiuDU7SKx",
        "outputId": "82a7c510-f6db-4c7a-8353-eae9ad333e9b"
      },
      "execution_count": null,
      "outputs": [
        {
          "output_type": "stream",
          "name": "stdout",
          "text": [
            "Square of each element of x:\n",
            " [[ 1  4]\n",
            " [ 9 25]] \n",
            "\n",
            "Square of each element of y:\n",
            " [[25 36]\n",
            " [49 64]]\n"
          ]
        }
      ]
    },
    {
      "cell_type": "markdown",
      "source": [
        "5. Find the dot product between: v(and)w ; x(and)v ; x(and)y."
      ],
      "metadata": {
        "id": "II9zD6Pk9VoJ"
      }
    },
    {
      "cell_type": "code",
      "source": [
        "dot_v_w = np.dot(v, w)\n",
        "dot_x_v = np.dot(x, v)\n",
        "dot_x_y = np.dot(x, y)\n",
        "\n",
        "print(\"Dot product of v and w:\", dot_v_w, \"\\n\")\n",
        "print(\"Dot product of x and v:\\n\", dot_x_v, \"\\n\")\n",
        "print(\"Dot product of x and y:\\n\", dot_x_y)\n"
      ],
      "metadata": {
        "colab": {
          "base_uri": "https://localhost:8080/"
        },
        "id": "_bYN6DYH9WjX",
        "outputId": "b64d4cad-108b-4293-f303-ff4e083cd9aa"
      },
      "execution_count": null,
      "outputs": [
        {
          "output_type": "stream",
          "name": "stdout",
          "text": [
            "Dot product of v and w: 219 \n",
            "\n",
            "Dot product of x and v:\n",
            " [29 77] \n",
            "\n",
            "Dot product of x and y:\n",
            " [[19 22]\n",
            " [50 58]]\n"
          ]
        }
      ]
    },
    {
      "cell_type": "markdown",
      "source": [
        "6. Concatenate x(and)y along row and Concatenate v(and)w along column.\n",
        "{Hint:try np.concatenate() or np.vstack() functions."
      ],
      "metadata": {
        "id": "8CEDhtJeAttz"
      }
    },
    {
      "cell_type": "code",
      "source": [
        "concatenate_xy_rows = np.concatenate((x, y), axis=0)\n",
        "concatenate_vw_columns = np.concatenate((v.reshape(-1, 1), w.reshape(-1, 1)), axis=1)\n",
        "\n",
        "print(\"Concatenation of x and y along rows:\\n\", concatenate_xy_rows)\n",
        "print(\"Concatenation of v and w along columns:\\n\", concatenate_vw_columns)\n"
      ],
      "metadata": {
        "colab": {
          "base_uri": "https://localhost:8080/"
        },
        "id": "-8303pHHAPOY",
        "outputId": "0d0df303-b841-41d4-d5fb-3c78de9e2d15"
      },
      "execution_count": null,
      "outputs": [
        {
          "output_type": "stream",
          "name": "stdout",
          "text": [
            "Concatenation of x and y along rows:\n",
            " [[1 2]\n",
            " [3 5]\n",
            " [5 6]\n",
            " [7 8]]\n",
            "Concatenation of v and w along columns:\n",
            " [[ 9 11]\n",
            " [10 12]]\n"
          ]
        }
      ]
    },
    {
      "cell_type": "markdown",
      "source": [
        "7. Concatenate x(and)v; if you get an error, observe and explain why did you get the error?"
      ],
      "metadata": {
        "id": "5aKEfS6tBJ-f"
      }
    },
    {
      "cell_type": "code",
      "source": [
        "try:\n",
        "    concatenated_x_v = np.concatenate((x, v), axis=0)\n",
        "    print(\"Concatenation of x and v:\\n\", concatenated_x_v)\n",
        "except Exception as e:\n",
        "    print(f\"Error: {e}\")\n"
      ],
      "metadata": {
        "colab": {
          "base_uri": "https://localhost:8080/"
        },
        "id": "FAWQ1bN3BNe0",
        "outputId": "688d978f-d310-4d3a-91c5-924ff3f0b793"
      },
      "execution_count": null,
      "outputs": [
        {
          "output_type": "stream",
          "name": "stdout",
          "text": [
            "Error: all the input arrays must have same number of dimensions, but the array at index 0 has 2 dimension(s) and the array at index 1 has 1 dimension(s)\n"
          ]
        }
      ]
    },
    {
      "cell_type": "markdown",
      "source": [
        "#Problem - 4: Matrix Operations:"
      ],
      "metadata": {
        "id": "Jd-qgW2VCGmt"
      }
    },
    {
      "cell_type": "markdown",
      "source": [
        "• For the following arrays:\n",
        "A = np.array([[3,4],[7,8]]) and B = np.array([[5,3],[2,1]]);\n",
        "Prove following with Numpy:"
      ],
      "metadata": {
        "id": "h2PRO1GPColO"
      }
    },
    {
      "cell_type": "code",
      "source": [
        "import numpy as np\n",
        "\n",
        "A = np.array([[3, 4], [7, 8]])\n",
        "B = np.array([[5, 3], [2, 1]])\n"
      ],
      "metadata": {
        "id": "nAlyeZz9CIsG"
      },
      "execution_count": null,
      "outputs": []
    },
    {
      "cell_type": "markdown",
      "source": [
        "Prove following with Numpy:\n",
        "1. Prove A.A−1 = I."
      ],
      "metadata": {
        "id": "bciGe_8YCsgg"
      }
    },
    {
      "cell_type": "code",
      "source": [
        "# Compute the inverse of A\n",
        "A_inv = np.linalg.inv(A)\n",
        "# Multiply A with its inverse\n",
        "A_A_inv = np.dot(A, A_inv)\n",
        "# Print result\n",
        "print(\"A * A^-1:\\n\", A_A_inv)\n"
      ],
      "metadata": {
        "colab": {
          "base_uri": "https://localhost:8080/"
        },
        "id": "9VECeUEUCpyG",
        "outputId": "b9064ee1-d163-418e-896a-df86a539ced1"
      },
      "execution_count": null,
      "outputs": [
        {
          "output_type": "stream",
          "name": "stdout",
          "text": [
            "A * A^-1:\n",
            " [[1.00000000e+00 0.00000000e+00]\n",
            " [1.77635684e-15 1.00000000e+00]]\n"
          ]
        }
      ]
    },
    {
      "cell_type": "markdown",
      "source": [
        "2. Prove AB ̸= BA."
      ],
      "metadata": {
        "id": "XFQJrgp7C3vH"
      }
    },
    {
      "cell_type": "code",
      "source": [
        "# Compute AB and BA\n",
        "AB = np.dot(A, B)\n",
        "BA = np.dot(B, A)\n",
        "# Print results\n",
        "print(\"AB:\\n\", AB, \"\\n\")\n",
        "print(\"BA:\\n\", BA)\n",
        "# Check if AB is equal to BA\n",
        "print(\"Does AB equal to BA?\", np.array_equal(AB, BA))\n"
      ],
      "metadata": {
        "colab": {
          "base_uri": "https://localhost:8080/"
        },
        "id": "b6pQkEsWC3GY",
        "outputId": "37c2e0bc-fa05-448b-f01f-f73ffc5f93a7"
      },
      "execution_count": null,
      "outputs": [
        {
          "output_type": "stream",
          "name": "stdout",
          "text": [
            "AB:\n",
            " [[23 13]\n",
            " [51 29]] \n",
            "\n",
            "BA:\n",
            " [[36 44]\n",
            " [13 16]]\n",
            "Does AB equal to BA? False\n"
          ]
        }
      ]
    },
    {
      "cell_type": "markdown",
      "source": [
        "3. Prove (AB) T = B T A T"
      ],
      "metadata": {
        "id": "_2LVsXACDWES"
      }
    },
    {
      "cell_type": "code",
      "source": [
        "# Compute (AB)^T\n",
        "AB_T = np.transpose(AB)\n",
        "# Compute B^T * A^T\n",
        "BT_AT = np.dot(np.transpose(B), np.transpose(A))\n",
        "# Print results\n",
        "print(\"(AB)^T:\\n\", AB_T, \"\\n\")\n",
        "print(\"B^T * A^T:\\n\", BT_AT)\n",
        "# Check if they are equal\n",
        "print(\"Does (AB)^T equal to B^T * A^T?\", np.array_equal(AB_T, BT_AT))\n"
      ],
      "metadata": {
        "colab": {
          "base_uri": "https://localhost:8080/"
        },
        "id": "iiQRIdrlDX3Q",
        "outputId": "d41b5aa0-bf74-4079-d396-402ce66d6bb7"
      },
      "execution_count": null,
      "outputs": [
        {
          "output_type": "stream",
          "name": "stdout",
          "text": [
            "(AB)^T:\n",
            " [[23 51]\n",
            " [13 29]] \n",
            "\n",
            "B^T * A^T:\n",
            " [[23 51]\n",
            " [13 29]]\n",
            "Does (AB)^T equal to B^T * A^T? True\n"
          ]
        }
      ]
    },
    {
      "cell_type": "markdown",
      "source": [
        "Solve the following system of Linear equation using Inverse Methods.\n",
        "\n",
        "2x − 3y + z = −1\n",
        "\n",
        "x − y + 2z = −3\n",
        "\n",
        "3x + y − z = 9\n",
        "\n",
        "{Hint: First use Numpy array to represent the equation in Matrix form. Then Solve for: AX = B}"
      ],
      "metadata": {
        "id": "vDbEooGdElAs"
      }
    },
    {
      "cell_type": "code",
      "source": [
        "# Define matrices\n",
        "A_matrix = np.array([[2, -3, 1], [1, -1, 2], [3, 1, -1]])\n",
        "B_matrix = np.array([-1, -3, 9])\n",
        "# Compute inverse of A\n",
        "A_inv_matrix = np.linalg.inv(A_matrix)\n",
        "# Solve for X\n",
        "X = np.dot(A_inv_matrix, B_matrix)\n",
        "# Print solution\n",
        "print(\"Solution for x, y, z:\", X)\n"
      ],
      "metadata": {
        "colab": {
          "base_uri": "https://localhost:8080/"
        },
        "id": "J0Y5fwkWEl0f",
        "outputId": "596a9cfa-00c7-42ee-c3a6-f66770a64aa8"
      },
      "execution_count": null,
      "outputs": [
        {
          "output_type": "stream",
          "name": "stdout",
          "text": [
            "Solution for x, y, z: [ 2.  1. -2.]\n"
          ]
        }
      ]
    }
  ]
}