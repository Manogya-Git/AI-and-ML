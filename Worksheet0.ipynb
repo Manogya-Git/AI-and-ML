{
  "nbformat": 4,
  "nbformat_minor": 0,
  "metadata": {
    "colab": {
      "provenance": [],
      "authorship_tag": "ABX9TyO7G4OleVYV0K658S1R7r2E",
      "include_colab_link": true
    },
    "kernelspec": {
      "name": "python3",
      "display_name": "Python 3"
    },
    "language_info": {
      "name": "python"
    }
  },
  "cells": [
    {
      "cell_type": "markdown",
      "metadata": {
        "id": "view-in-github",
        "colab_type": "text"
      },
      "source": [
        "<a href=\"https://colab.research.google.com/github/Manogya-Git/AI-and-ML/blob/main/Worksheet0.ipynb\" target=\"_parent\"><img src=\"https://colab.research.google.com/assets/colab-badge.svg\" alt=\"Open In Colab\"/></a>"
      ]
    },
    {
      "cell_type": "markdown",
      "source": [
        "# Task 1"
      ],
      "metadata": {
        "id": "wrbwH_w2lyXt"
      }
    },
    {
      "cell_type": "code",
      "execution_count": 48,
      "metadata": {
        "id": "twyPWyJvNLha",
        "outputId": "df3840f2-b038-4624-a332-789250920fa3",
        "colab": {
          "base_uri": "https://localhost:8080/"
        }
      },
      "outputs": [
        {
          "output_type": "stream",
          "name": "stdout",
          "text": [
            "Unit Conversion Program\n",
            "Select a conversion type:\n",
            "1. Length\n",
            "2. Weight\n",
            "3. Volume\n",
            "Enter your choice (1-3): 1\n",
            "Length Conversions:\n",
            "1. Meters to Feet\n",
            "2. Feet to Meters\n",
            "Enter your choice: 2\n",
            "Enter the value to convert: 100\n",
            "Converted value: 30.4800\n"
          ]
        }
      ],
      "source": [
        "def meters_to_feet(meters):\n",
        "    \"\"\"Converts meters to feet.\"\"\"\n",
        "    return meters * 3.28084\n",
        "\n",
        "def feet_to_meters(feet):\n",
        "    \"\"\"Converts feet to meters.\"\"\"\n",
        "    return feet / 3.28084\n",
        "\n",
        "def kg_to_lbs(kg):\n",
        "    \"\"\"Converts kilograms to pounds.\"\"\"\n",
        "    return kg * 2.20462\n",
        "\n",
        "def lbs_to_kg(lbs):\n",
        "    \"\"\"Converts pounds to kilograms.\"\"\"\n",
        "    return lbs / 2.20462\n",
        "\n",
        "def liters_to_gallons(liters):\n",
        "    \"\"\"Converts liters to gallons.\"\"\"\n",
        "    return liters * 0.264172\n",
        "\n",
        "def gallons_to_liters(gallons):\n",
        "    \"\"\"Converts gallons to liters.\"\"\"\n",
        "    return gallons / 0.264172\n",
        "\n",
        "def main():\n",
        "    \"\"\"Main function to handle user input and perform conversions.\"\"\"\n",
        "    conversions = {\n",
        "        \"1\": (\"Length\", {\"1\": (\"Meters to Feet\", meters_to_feet), \"2\": (\"Feet to Meters\", feet_to_meters)}),\n",
        "        \"2\": (\"Weight\", {\"1\": (\"Kilograms to Pounds\", kg_to_lbs), \"2\": (\"Pounds to Kilograms\", lbs_to_kg)}),\n",
        "        \"3\": (\"Volume\", {\"1\": (\"Liters to Gallons\", liters_to_gallons), \"2\": (\"Gallons to Liters\", gallons_to_liters)})\n",
        "    }\n",
        "\n",
        "    print(\"Unit Conversion Program\")\n",
        "    print(\"Select a conversion type:\")\n",
        "    for key, (category, _) in conversions.items():\n",
        "        print(f\"{key}. {category}\")\n",
        "\n",
        "    conversion_type = input(\"Enter your choice (1-3): \")\n",
        "    if conversion_type not in conversions:\n",
        "        print(\"Invalid choice. Please restart and select a valid option.\")\n",
        "        return\n",
        "\n",
        "    category, options = conversions[conversion_type]\n",
        "    print(f\"{category} Conversions:\")\n",
        "    for key, (desc, _) in options.items():\n",
        "        print(f\"{key}. {desc}\")\n",
        "\n",
        "    conversion_option = input(\"Enter your choice: \")\n",
        "    if conversion_option not in options:\n",
        "        print(\"Invalid choice. Please restart and select a valid option.\")\n",
        "        return\n",
        "\n",
        "    _, conversion_function = options[conversion_option]\n",
        "\n",
        "    try:\n",
        "        value = float(input(\"Enter the value to convert: \"))\n",
        "        result = conversion_function(value)\n",
        "        print(f\"Converted value: {result:.4f}\")\n",
        "    except ValueError:\n",
        "        print(\"Invalid input. Please enter a numeric value.\")\n",
        "\n",
        "if __name__ == \"__main__\":\n",
        "    main()\n"
      ]
    },
    {
      "cell_type": "markdown",
      "source": [
        "# Task 2"
      ],
      "metadata": {
        "id": "kN0ip6Rwl2ZV"
      }
    },
    {
      "cell_type": "code",
      "source": [
        "def calculate_sum(numbers):\n",
        "    \"\"\"\n",
        "    Calculate the sum of a list of numbers.\n",
        "\n",
        "    Parameters:\n",
        "        numbers (list of float): The list of numbers.\n",
        "\n",
        "    Returns:\n",
        "        float: The sum of the numbers.\n",
        "    \"\"\"\n",
        "    return sum(numbers)\n",
        "\n",
        "def calculate_average(numbers):\n",
        "    \"\"\"\n",
        "    Calculate the average of a list of numbers.\n",
        "\n",
        "    Parameters:\n",
        "        numbers (list of float): The list of numbers.\n",
        "\n",
        "    Returns:\n",
        "        float: The average of the numbers.\n",
        "    \"\"\"\n",
        "    if len(numbers) == 0:\n",
        "        raise ValueError(\"Cannot calculate average of an empty list.\")\n",
        "    return sum(numbers) / len(numbers)\n",
        "\n",
        "def find_maximum(numbers):\n",
        "    \"\"\"\n",
        "    Find the maximum number in a list.\n",
        "\n",
        "    Parameters:\n",
        "        numbers (list of float): The list of numbers.\n",
        "\n",
        "    Returns:\n",
        "        float: The maximum number.\n",
        "    \"\"\"\n",
        "    if len(numbers) == 0:\n",
        "        raise ValueError(\"Cannot find the maximum of an empty list.\")\n",
        "    return max(numbers)\n",
        "\n",
        "def find_minimum(numbers):\n",
        "    \"\"\"\n",
        "    Find the minimum number in a list.\n",
        "\n",
        "    Parameters:\n",
        "        numbers (list of float): The list of numbers.\n",
        "\n",
        "    Returns:\n",
        "        float: The minimum number.\n",
        "    \"\"\"\n",
        "    if len(numbers) == 0:\n",
        "        raise ValueError(\"Cannot find the minimum of an empty list.\")\n",
        "    return min(numbers)\n",
        "\n",
        "def main():\n",
        "    print(\"Mathematical Operations on a List of Numbers\")\n",
        "    print(\"Choose an operation:\")\n",
        "    print(\"1. Sum of the numbers\")\n",
        "    print(\"2. Average of the numbers\")\n",
        "    print(\"3. Maximum number\")\n",
        "    print(\"4. Minimum number\")\n",
        "\n",
        "    try:\n",
        "        choice = int(input(\"Enter the number of your choice: \"))\n",
        "\n",
        "        if choice not in [1, 2, 3, 4]:\n",
        "            print(\"Invalid choice. Please select a valid option.\")\n",
        "            return\n",
        "\n",
        "        # Get the list of numbers from the user\n",
        "        user_input = input(\"Enter a list of numbers (separated by spaces): \")\n",
        "        number_strings = user_input.split()\n",
        "        numbers = [float(num.replace(',', '.')) for num in number_strings]  # Handle commas and convert to float\n",
        "\n",
        "        if len(numbers) == 0:\n",
        "            print(\"The list is empty. Please enter at least one number.\")\n",
        "            return\n",
        "\n",
        "        # Perform the selected operation\n",
        "        if choice == 1:\n",
        "            result = calculate_sum(numbers)\n",
        "            print(f\"Sum of the numbers: {result}\")\n",
        "\n",
        "        elif choice == 2:\n",
        "            result = calculate_average(numbers)\n",
        "            print(f\"Average of the numbers: {result}\")\n",
        "\n",
        "        elif choice == 3:\n",
        "            result = find_maximum(numbers)\n",
        "            print(f\"Maximum number: {result}\")\n",
        "\n",
        "        elif choice == 4:\n",
        "            result = find_minimum(numbers)\n",
        "            print(f\"Minimum number: {result}\")\n",
        "\n",
        "    except ValueError:\n",
        "        print(\"Invalid input. Please enter numeric values separated by spaces.\")\n",
        "\n",
        "if __name__ == \"__main__\":\n",
        "    main()"
      ],
      "metadata": {
        "colab": {
          "base_uri": "https://localhost:8080/"
        },
        "id": "TTV04_s6l9yk",
        "outputId": "caf9d85a-32c2-464d-dfdb-193f33cd2c84"
      },
      "execution_count": 49,
      "outputs": [
        {
          "output_type": "stream",
          "name": "stdout",
          "text": [
            "Mathematical Operations on a List of Numbers\n",
            "Choose an operation:\n",
            "1. Sum of the numbers\n",
            "2. Average of the numbers\n",
            "3. Maximum number\n",
            "4. Minimum number\n",
            "Enter the number of your choice: 2\n",
            "Enter a list of numbers (separated by spaces): 1, 2, 3\n",
            "Average of the numbers: 2.0\n"
          ]
        }
      ]
    },
    {
      "cell_type": "markdown",
      "source": [
        "# 4.2 Exercise on List Manipulation:"
      ],
      "metadata": {
        "id": "PgJH4TR7mEbc"
      }
    },
    {
      "cell_type": "markdown",
      "source": [
        "\n",
        "\n",
        "1.  Extract Every Other Element: Write a Python function that extracts every other element from a list, starting from the first element.\n",
        "\n"
      ],
      "metadata": {
        "id": "Z83Yzaa-mJT8"
      }
    },
    {
      "cell_type": "code",
      "source": [
        "def extract_every_other(lst):\n",
        "    return lst[::2]  # Slicing to take every other element\n",
        "\n",
        "lst = [1, 3, 4, 2, 5, 6]\n",
        "result = extract_every_other(lst)\n",
        "print(result)\n"
      ],
      "metadata": {
        "colab": {
          "base_uri": "https://localhost:8080/"
        },
        "id": "1NFI78V8mQGF",
        "outputId": "50b365dc-7557-416f-f0e4-5c0e7ebf4d75"
      },
      "execution_count": 55,
      "outputs": [
        {
          "output_type": "stream",
          "name": "stdout",
          "text": [
            "[1, 4, 5]\n"
          ]
        }
      ]
    },
    {
      "cell_type": "markdown",
      "source": [
        "2.   Slice a Sublist: Write a Python function that returns a sublist from a given list, starting from a specified index and ending at another specified index.\n",
        "\n"
      ],
      "metadata": {
        "id": "eEEoI5w2mSck"
      }
    },
    {
      "cell_type": "code",
      "source": [
        "\n",
        "def get_sublist(lst, start, end):\n",
        "    return lst[start:end+1]\n",
        "lst = [1, 2, 3, 4, 5, 6]\n",
        "result = get_sublist(lst, 1, 4)\n",
        "print(result)  # Output: [3, 4, 5]"
      ],
      "metadata": {
        "id": "YX2yCwaPmaat"
      },
      "execution_count": null,
      "outputs": []
    },
    {
      "cell_type": "markdown",
      "source": [
        "\n",
        "3. Reverse a List Using Slicing: Write a Python function that reverses a list using slicing.\n",
        "\n"
      ],
      "metadata": {
        "id": "xZfgmntsmepU"
      }
    },
    {
      "cell_type": "code",
      "source": [
        "def reverse_list(lst):\n",
        "    lst.reverse()\n",
        "    return lst\n",
        "\n",
        "lst = [1, 2, 3, 4, 5]\n",
        "result = reverse_list(lst)\n",
        "print(result)\n"
      ],
      "metadata": {
        "id": "mbQ00kbBmkYF"
      },
      "execution_count": null,
      "outputs": []
    },
    {
      "cell_type": "markdown",
      "source": [
        "4. Remove the First and Last Elements: Write a Python function that removes the first and last elements of a list and returns the resulting sublist\n"
      ],
      "metadata": {
        "id": "L1ifbIfXmnNl"
      }
    },
    {
      "cell_type": "code",
      "source": [
        "\n",
        "def remove_first_last(lst):\n",
        "    result = []\n",
        "    for i in range(1, len(lst) - 1):\n",
        "        result.append(lst[i])\n",
        "    return result\n",
        "\n",
        "lst = [1, 2, 3, 4, 5]\n",
        "result = remove_first_last(lst)\n",
        "print(result)  # Output: [2, 3, 4]"
      ],
      "metadata": {
        "id": "acQH30ZHmp4M"
      },
      "execution_count": null,
      "outputs": []
    },
    {
      "cell_type": "markdown",
      "source": [
        "Get the First n Elements: Write a Python function that extracts the first n elements from a list."
      ],
      "metadata": {
        "id": "PPQ3UpJnnEjd"
      }
    },
    {
      "cell_type": "code",
      "source": [
        "def get_first_n(lst, n):\n",
        "    return [lst[i] for i in range(n)]\n",
        "lst = [1, 2, 3, 4, 5]\n",
        "result = get_first_n(lst, 3)\n",
        "print(result)\n"
      ],
      "metadata": {
        "id": "arE8oqOMnGTF"
      },
      "execution_count": null,
      "outputs": []
    },
    {
      "cell_type": "markdown",
      "source": [
        "Extract Elements from the End: Write a Python function that extracts the last n elements of a list using slicing."
      ],
      "metadata": {
        "id": "2kSTe7C8nH59"
      }
    },
    {
      "cell_type": "code",
      "source": [
        "def slice(lst, n):\n",
        "    return lst[len(lst) - n:]\n",
        "\n",
        "lst = [1, 2, 3, 9, 5]\n",
        "result = slice(lst, 2)\n",
        "print(result)"
      ],
      "metadata": {
        "id": "voWKYg9NnJJU"
      },
      "execution_count": null,
      "outputs": []
    },
    {
      "cell_type": "markdown",
      "source": [
        "Extract Elements in Reverse Order: Write a Python function that extracts a list of elements in reverse order starting from the second-to-last element and skipping one element in between."
      ],
      "metadata": {
        "id": "pr7-sADKnLhM"
      }
    },
    {
      "cell_type": "code",
      "source": [
        "def reverse_order(lst):\n",
        "    return lst[-2::-2]\n",
        "\n",
        "print(reverse_order([1, 2, 3, 4, 5, 6]))\n"
      ],
      "metadata": {
        "id": "_wE1EyUtnMHM"
      },
      "execution_count": null,
      "outputs": []
    },
    {
      "cell_type": "markdown",
      "source": [
        "# 4.3 Exercise on Nested List:"
      ],
      "metadata": {
        "id": "o4fi2XV-nPPc"
      }
    },
    {
      "cell_type": "markdown",
      "source": [
        "Flatten a Nested List: Write a Python function that takes a nested list and flattens it into a single list, where all the elements are in a single dimension."
      ],
      "metadata": {
        "id": "Jdxvnc6cnSpV"
      }
    },
    {
      "cell_type": "code",
      "source": [
        "def flatten(lst):\n",
        "    return [item for sublist in lst for item in sublist]\n",
        "\n",
        "print(flatten([[1, 2], [3, 4], [5]]))"
      ],
      "metadata": {
        "id": "m--8XeWFnUIl"
      },
      "execution_count": null,
      "outputs": []
    },
    {
      "cell_type": "markdown",
      "source": [
        "2. Accessing Nested List Elements:\n",
        "\n",
        "  Write a Python function that extracts a specific element from a nested list given its indices.\n",
        "\n",
        "  • Requirements: – Define a function access nested element(lst, indices) that takes a nested list lst and a list of indices indices, and returns the element at that position."
      ],
      "metadata": {
        "id": "XjkG-mgQnWTl"
      }
    },
    {
      "cell_type": "code",
      "source": [
        "\n",
        "def access_nested_element(lst, indices):\n",
        "    element = lst\n",
        "    for index in indices:\n",
        "        element = element[index]\n",
        "    return element\n",
        "\n",
        "lst = [[1, 2, 3], [4, 5, 6], [7, 8, 9]]\n",
        "indices = [1, 2]\n",
        "\n",
        "print(access_nested_element(lst, indices))"
      ],
      "metadata": {
        "id": "O4mrStOlnekk"
      },
      "execution_count": null,
      "outputs": []
    },
    {
      "cell_type": "markdown",
      "source": [
        "3. Sum of All Elements in a Nested List:\n",
        "\n",
        "  Write a Python function that calculates the sum of all the numbers in a nested list (regardless of depth). • Requirements: – Define a function sum nested(lst) that takes a nested list lst and returns the sum of all the elements."
      ],
      "metadata": {
        "id": "v3blUQcunwci"
      }
    },
    {
      "cell_type": "code",
      "source": [
        "def sum_nested(lst):\n",
        "    total = 0\n",
        "    for element in lst:\n",
        "        if isinstance(element, list):\n",
        "            total += sum_nested(element)\n",
        "        else:\n",
        "            total += element\n",
        "    return total\n",
        "\n",
        "lst = [[1, 2], [3, [4, 5]], 6]\n",
        "print(sum_nested(lst))"
      ],
      "metadata": {
        "id": "ZTs8Z3qln1i0"
      },
      "execution_count": null,
      "outputs": []
    },
    {
      "cell_type": "markdown",
      "source": [
        "4. Remove Specific Element from a Nested List:\n",
        "\n",
        "  Write a Python function that removes all occurrences of a specific element from a nested list.\n",
        "\n",
        "• Requirements: – Define a function remove element(lst, elem) that removes elem from lst and returns the modified list."
      ],
      "metadata": {
        "id": "v-Y1glskn4Gc"
      }
    },
    {
      "cell_type": "code",
      "source": [
        "def remove_element(lst, elem):\n",
        "    result = []\n",
        "    for item in lst:\n",
        "        if isinstance(item, list):\n",
        "            result.append(remove_element(item, elem))\n",
        "        elif item != elem:\n",
        "            result.append(item)\n",
        "    return result\n",
        "\n",
        "lst = [[1, 2, 3],  [4, 2], [5]]\n",
        "elem = 2\n",
        "print(remove_element(lst, elem))\n",
        ""
      ],
      "metadata": {
        "id": "Sbx0RiO4oBm8"
      },
      "execution_count": null,
      "outputs": []
    },
    {
      "cell_type": "markdown",
      "source": [
        "5. Find the Maximum Element in a Nested List:\n",
        "\n",
        "  Write a Python function that finds the maximum element in a nested list (regardless of depth).\n",
        "\n",
        "  • Requirements: – Define a function find max(lst) that takes a nested list lst and returns the maximum element."
      ],
      "metadata": {
        "id": "quCGVsv8oRW1"
      }
    },
    {
      "cell_type": "code",
      "source": [
        "\n",
        "def find_max(lst):\n",
        "    max_val = lst[0]\n",
        "    for item in lst:\n",
        "        if isinstance(item, list):\n",
        "            max_val = max(max_val, find_max(item))\n",
        "        else:\n",
        "            max_val = max(max_val, item)  #\n",
        "    return max_val\n",
        "\n",
        "\n",
        "nested_list = [1, [2, 3, [4, 5]], 6, [7, 8], 9]\n",
        "print(find_max(nested_list))"
      ],
      "metadata": {
        "id": "iE6CbTa_oW7V"
      },
      "execution_count": null,
      "outputs": []
    },
    {
      "cell_type": "markdown",
      "source": [
        "6. Count Occurrences of an Element in a Nested List:\n",
        "\n",
        "  Write a Python function that counts how many times a specific element appears in a nested list.\n",
        "\n",
        "  • Requirements: – Define a function count occurrences(lst, elem) that counts the occurrences of elem in the nested list lst."
      ],
      "metadata": {
        "id": "6Om6ISQ5oZhF"
      }
    },
    {
      "cell_type": "code",
      "source": [
        "def get_last_n(lst, n):\n",
        "    return lst[-n:]\n",
        "\n",
        "my_list = [1, 2, 3, 4, 5, 6, 7]\n",
        "print(get_last_n(my_list, 3))"
      ],
      "metadata": {
        "id": "-hx92v7vohn9"
      },
      "execution_count": null,
      "outputs": []
    },
    {
      "cell_type": "markdown",
      "source": [
        "7. Flatten a List of Lists of Lists:\n",
        "  \n",
        "  Write a Python function that flattens a list of lists of lists into a single list, regardless of the depth.\n",
        "\n",
        "  • Requirements: – Define a function deep flatten(lst) that takes a deeply nested list lst and returns a single flattened list."
      ],
      "metadata": {
        "id": "aDeXE2rcopn9"
      }
    },
    {
      "cell_type": "code",
      "source": [
        "\n",
        "def deep_flatten(lst):\n",
        "    flat_list = []\n",
        "    for item in lst:\n",
        "        if isinstance(item, list):\n",
        "            flat_list.extend(deep_flatten(item))\n",
        "        else:\n",
        "            flat_list.append(item)\n",
        "    return flat_list\n",
        "\n",
        "nested_list = [1, [2, [3, [4, 5]]], 6, [7, 8], 9]\n",
        "print(deep_flatten(nested_list))"
      ],
      "metadata": {
        "id": "JuimX2o5os0t"
      },
      "execution_count": null,
      "outputs": []
    },
    {
      "cell_type": "markdown",
      "source": [
        "8. Nested List Average:\n",
        "\n",
        "  Write a Python function that calculates the average of all elements in a nested list.\n",
        "\n",
        "  • Requirements: – Define a function average nested(lst) that takes a nested list lst and returns the average of all the elements."
      ],
      "metadata": {
        "id": "Em_Cd70bow6F"
      }
    },
    {
      "cell_type": "code",
      "source": [
        "\n",
        "def average_nested(lst):\n",
        "    flattened_list = [item for sublist in lst for item in sublist]\n",
        "    return sum(flattened_list) / len(flattened_list) if flattened_list else 0\n",
        "\n",
        "nested_list = [[1, 2], [3, 4], [5, 6]]\n",
        "result = average_nested(nested_list)\n",
        "print(result)\n"
      ],
      "metadata": {
        "id": "dSTil4Avo08t"
      },
      "execution_count": null,
      "outputs": []
    },
    {
      "cell_type": "markdown",
      "source": [
        "# Problem - 1: Array Creation:"
      ],
      "metadata": {
        "id": "45dAWP0Xo4AN"
      }
    },
    {
      "cell_type": "markdown",
      "source": [
        "1. Initialize an empty array with size 2X2."
      ],
      "metadata": {
        "id": "BOYXeKWVo9rt"
      }
    },
    {
      "cell_type": "code",
      "source": [
        "import numpy as np\n",
        "\n",
        "array = np.zeros((2, 2))\n",
        "print(array)\n"
      ],
      "metadata": {
        "id": "pBJcguMio5-M"
      },
      "execution_count": null,
      "outputs": []
    },
    {
      "cell_type": "markdown",
      "source": [
        "2. Initialize an all one array with size 4X2."
      ],
      "metadata": {
        "id": "P1zV3Ed8o_SF"
      }
    },
    {
      "cell_type": "code",
      "source": [
        "array = np.ones((4, 2))\n",
        "print(array)"
      ],
      "metadata": {
        "id": "HYenWqnppBhl"
      },
      "execution_count": null,
      "outputs": []
    },
    {
      "cell_type": "markdown",
      "source": [
        "3. Return a new array of given shape and type, filled with fill value.{Hint: np.full}"
      ],
      "metadata": {
        "id": "A6hxr7DIqBGd"
      }
    },
    {
      "cell_type": "code",
      "source": [
        "shape = (2, 3)\n",
        "fillvalue = 7\n",
        "new_array = np.full(shape, fillvalue)\n",
        "print(new_array)"
      ],
      "metadata": {
        "id": "P_v47v97qC21"
      },
      "execution_count": null,
      "outputs": []
    },
    {
      "cell_type": "markdown",
      "source": [
        "4. Return a new array of zeros with same shape and type as a given array.{Hint: np.zeros like}"
      ],
      "metadata": {
        "id": "5OgcXkBYqFKl"
      }
    },
    {
      "cell_type": "code",
      "source": [
        "array = np.array([[1, 2], [3, 4]])\n",
        "new_array_zeros = np.zeros_like(array)\n",
        "print(new_array_zeros)"
      ],
      "metadata": {
        "id": "GdtfJ3U7qGNt"
      },
      "execution_count": null,
      "outputs": []
    },
    {
      "cell_type": "markdown",
      "source": [
        "5. Return a new array of ones with same shape and type as a given array.{Hint: np.ones like}"
      ],
      "metadata": {
        "id": "j11_01ZgqUzF"
      }
    },
    {
      "cell_type": "code",
      "source": [
        "array = np.array([[1, 2], [3, 4]])\n",
        "new_array_ones = np.ones_like(array)\n",
        "print(new_array_ones)"
      ],
      "metadata": {
        "id": "1V3Kvh5pqWc9"
      },
      "execution_count": null,
      "outputs": []
    },
    {
      "cell_type": "markdown",
      "source": [
        "6. For an existing list new_list = [1,2,3,4] convert to an numpy array.{Hint: np.array()}"
      ],
      "metadata": {
        "id": "28GDa5ChqIEd"
      }
    },
    {
      "cell_type": "code",
      "source": [
        "\n",
        "new_list = [1, 2, 3, 4]\n",
        "array = np.array(new_list)\n",
        "print(array)"
      ],
      "metadata": {
        "id": "yfLWNdJCqKyt"
      },
      "execution_count": null,
      "outputs": []
    },
    {
      "cell_type": "markdown",
      "source": [
        "# Problem - 2: Array Manipulation: Numerical Ranges and Array indexing:\n",
        "1. Create an array with values ranging from 10 to 49. {Hint:np.arrange()}."
      ],
      "metadata": {
        "id": "8T8sr8X_qZGd"
      }
    },
    {
      "cell_type": "code",
      "source": [
        "import numpy as np\n",
        "array = np.arange(10, 50)\n",
        "print(array)"
      ],
      "metadata": {
        "id": "V2zWBV_cqfKN"
      },
      "execution_count": null,
      "outputs": []
    },
    {
      "cell_type": "markdown",
      "source": [
        "2. Create a 3X3 matrix with values ranging from 0 to 8. {Hint:look for np.reshape()}"
      ],
      "metadata": {
        "id": "FGsssHLOqjut"
      }
    },
    {
      "cell_type": "code",
      "source": [
        "range = np.arange(9)\n",
        "matrix = range.reshape(3, 3)\n",
        "print(matrix)"
      ],
      "metadata": {
        "id": "rjvrINztqkcl"
      },
      "execution_count": null,
      "outputs": []
    },
    {
      "cell_type": "markdown",
      "source": [
        "3. Create a 3X3 identity matrix.{Hint:np.eye()}"
      ],
      "metadata": {
        "id": "-H7HrcWmqnP1"
      }
    },
    {
      "cell_type": "code",
      "source": [
        "matrix = np.eye(3)\n",
        "print(matrix)"
      ],
      "metadata": {
        "id": "sMI3DVpGrAsN"
      },
      "execution_count": null,
      "outputs": []
    },
    {
      "cell_type": "markdown",
      "source": [
        "4. Create a random array of size 30 and find the mean of the array. {Hint:check for np.random.random() and array.mean() function}"
      ],
      "metadata": {
        "id": "mUYjHbLMrF49"
      }
    },
    {
      "cell_type": "code",
      "source": [
        "random_array = np.random.random(30)\n",
        "mean_value = random_array.mean()\n",
        "print(\"Random array:\", random_array)\n",
        "print(\"Mean of the array:\", mean_value)"
      ],
      "metadata": {
        "id": "lhQUICtqrIE1"
      },
      "execution_count": null,
      "outputs": []
    },
    {
      "cell_type": "markdown",
      "source": [
        "5. Create a 10X10 array with random values and find the minimum and maximum values."
      ],
      "metadata": {
        "id": "2ZAYiNWArKwV"
      }
    },
    {
      "cell_type": "code",
      "source": [
        "random_array = np.random.random((10, 10))\n",
        "min_value = random_array.min()\n",
        "max_value = random_array.max()\n",
        "print(\"Random 10x10 array:\\n\", random_array)\n",
        "print(\"Minimum value:\", min_value)\n",
        "print(\"Maximum value:\", max_value)"
      ],
      "metadata": {
        "id": "T7Xx7P9XrLmN"
      },
      "execution_count": null,
      "outputs": []
    },
    {
      "cell_type": "markdown",
      "source": [
        "6. Create a zero array of size 10 and replace 5th element with 1."
      ],
      "metadata": {
        "id": "pScQz6G6rOCd"
      }
    },
    {
      "cell_type": "code",
      "source": [
        "z_array = np.zeros(10)\n",
        "z_array[4] = 1\n",
        "print(z_array)"
      ],
      "metadata": {
        "id": "J_IsFGdcrO4t"
      },
      "execution_count": null,
      "outputs": []
    },
    {
      "cell_type": "markdown",
      "source": [
        "7. Reverse an array arr = [1,2,0,0,4,0]."
      ],
      "metadata": {
        "id": "NxZeH0FprRJt"
      }
    },
    {
      "cell_type": "code",
      "source": [
        "arr = [1, 2, 0, 0, 4, 0]\n",
        "reversed_arr = arr[::-1]\n",
        "print(reversed_arr)\n"
      ],
      "metadata": {
        "id": "DZbsnZExrSCm"
      },
      "execution_count": null,
      "outputs": []
    },
    {
      "cell_type": "markdown",
      "source": [
        "8. Create a 2d array with 1 on border and 0 inside."
      ],
      "metadata": {
        "id": "_we78nqIrUvT"
      }
    },
    {
      "cell_type": "code",
      "source": [
        "rows, cols = 5, 5\n",
        "array = np.ones((rows, cols))\n",
        "array[1:-1, 1:-1] = 0\n",
        "print(array)"
      ],
      "metadata": {
        "id": "b50T1g2grVvt"
      },
      "execution_count": null,
      "outputs": []
    },
    {
      "cell_type": "markdown",
      "source": [
        "9. Create a 8X8 matrix and fill it with a checkerboard pattern."
      ],
      "metadata": {
        "id": "S_1YrA0Lra2t"
      }
    },
    {
      "cell_type": "code",
      "source": [
        "checkerboard = np.zeros((8, 8))\n",
        "checkerboard[1::2, ::2] = 1\n",
        "checkerboard[::2, 1::2] = 1\n",
        "print(checkerboard)"
      ],
      "metadata": {
        "id": "CLGiPAW2rb2N"
      },
      "execution_count": null,
      "outputs": []
    },
    {
      "cell_type": "markdown",
      "source": [
        "# Problem - 3: Array Operations:\n",
        "For the following arrays:\n",
        "\n",
        "x = np.array([[1,2],[3,5]]) and y = np.array([[5,6],[7,8]]);\n",
        "\n",
        "v = np.array([9,10]) and w = np.array([11,12]);\n",
        "\n",
        "Complete all the task using numpy:\n",
        "\n",
        "1. Add the two array."
      ],
      "metadata": {
        "id": "-21yHsZIre3F"
      }
    },
    {
      "cell_type": "code",
      "source": [
        "import numpy as np\n",
        "x = np.array([[1, 2], [3, 5]])\n",
        "y = np.array([[5, 6], [7, 8]])\n",
        "v = np.array([9, 10])\n",
        "w = np.array([11, 12])\n",
        "add_array = x + y\n",
        "print(\"Addition of x and y:\\n\", add_array)"
      ],
      "metadata": {
        "id": "FqX_znFKriFl"
      },
      "execution_count": null,
      "outputs": []
    },
    {
      "cell_type": "markdown",
      "source": [
        "2. Subtract the two array."
      ],
      "metadata": {
        "id": "PWuLUWB9rm4V"
      }
    },
    {
      "cell_type": "code",
      "source": [
        "subtract_array = x - y\n",
        "print(\"Subtraction of x and y:\\n\", subtract_array)"
      ],
      "metadata": {
        "id": "WHrMi-oErnlV"
      },
      "execution_count": null,
      "outputs": []
    },
    {
      "cell_type": "markdown",
      "source": [
        "3. Multiply the array with any integers of your choice."
      ],
      "metadata": {
        "id": "wEZnoYQwsD-N"
      }
    },
    {
      "cell_type": "code",
      "source": [
        "x_multiply = x * 4\n",
        "y_multiply = y * 5\n",
        "print(\"x multiplied by 2:\\n\", x_multiply, \"\\n\")\n",
        "print(\"y multiplied by 3:\\n\", y_multiply)"
      ],
      "metadata": {
        "id": "TdpXEyPMsEzd"
      },
      "execution_count": null,
      "outputs": []
    },
    {
      "cell_type": "markdown",
      "source": [
        "4. Find the square of each element of the array."
      ],
      "metadata": {
        "id": "d2BJSByAsHK9"
      }
    },
    {
      "cell_type": "code",
      "source": [
        "a = np.square(x)\n",
        "b = np.square(y)\n",
        "print(\"Square of each element of x:\\n\", a, \"\\n\")\n",
        "print(\"Square of each element of y:\\n\", b)"
      ],
      "metadata": {
        "id": "UvrTtRLLsI-d"
      },
      "execution_count": null,
      "outputs": []
    },
    {
      "cell_type": "markdown",
      "source": [
        "5. Find the dot product between: v(and)w ; x(and)v ; x(and)y."
      ],
      "metadata": {
        "id": "9zrgV-ofsW5l"
      }
    },
    {
      "cell_type": "code",
      "source": [
        "dot_v_w = np.dot(v, w)\n",
        "dot_x_v = np.dot(x, v)\n",
        "dot_x_y = np.dot(x, y)\n",
        "\n",
        "print(\"Dot product of v and w:\", dot_v_w, \"\\n\")\n",
        "print(\"Dot product of x and v:\\n\", dot_x_v, \"\\n\")\n",
        "print(\"Dot product of x and y:\\n\", dot_x_y)"
      ],
      "metadata": {
        "id": "jZ2p5_IwsZLd"
      },
      "execution_count": null,
      "outputs": []
    },
    {
      "cell_type": "markdown",
      "source": [
        "6. Concatenate x(and)y along row and Concatenate v(and)w along column. {Hint:try np.concatenate() or np.vstack() functions."
      ],
      "metadata": {
        "id": "ToC27KjAseRV"
      }
    },
    {
      "cell_type": "code",
      "source": [
        "concatenate_xy_rows = np.concatenate((x, y), axis=0)\n",
        "concatenate_vw_columns = np.concatenate((v.reshape(-1, 1), w.reshape(-1, 1)), axis=1)\n",
        "\n",
        "print(\"Concatenation of x and y along rows:\\n\", concatenate_xy_rows)\n",
        "print(\"Concatenation of v and w along columns:\\n\", concatenate_vw_columns)"
      ],
      "metadata": {
        "id": "QfJPWTbcshAN"
      },
      "execution_count": null,
      "outputs": []
    },
    {
      "cell_type": "markdown",
      "source": [
        "7. Concatenate x(and)v; if you get an error, observe and explain why did you get the error?"
      ],
      "metadata": {
        "id": "FaGVavMdsj5G"
      }
    },
    {
      "cell_type": "code",
      "source": [
        "\n",
        "try:\n",
        "    concatenated_x_v = np.concatenate((x, v), axis=0)\n",
        "    print(\"Concatenation of x and v:\\n\", concatenated_x_v)\n",
        "except Exception as e:\n",
        "    print(f\"Error: {e}\")"
      ],
      "metadata": {
        "id": "QJh_Fk77sko9"
      },
      "execution_count": null,
      "outputs": []
    },
    {
      "cell_type": "markdown",
      "source": [
        "# Problem - 4: Matrix Operations:\n",
        "• For the following arrays: A = np.array([[3,4],[7,8]]) and B = np.array([[5,3],[2,1]]); Prove following with Numpy:"
      ],
      "metadata": {
        "id": "wkRfabhQspW1"
      }
    },
    {
      "cell_type": "code",
      "source": [
        "import numpy as np\n",
        "\n",
        "A = np.array([[3, 4], [7, 8]])\n",
        "B = np.array([[5, 3], [2, 1]])\n"
      ],
      "metadata": {
        "id": "EwY5fUp4sqil"
      },
      "execution_count": null,
      "outputs": []
    },
    {
      "cell_type": "markdown",
      "source": [
        "Prove following with Numpy:\n",
        "\n",
        "1. Prove A.A−1 = I."
      ],
      "metadata": {
        "id": "lBAB1WZ2stnl"
      }
    },
    {
      "cell_type": "code",
      "source": [
        "\n",
        "# Compute the inverse of A\n",
        "A_inv = np.linalg.inv(A)\n",
        "# Multiply A with its inverse\n",
        "A_A_inv = np.dot(A, A_inv)\n",
        "# Print result\n",
        "print(\"A * A^-1:\\n\", A_A_inv)\n"
      ],
      "metadata": {
        "id": "p6emZmtWsuPl"
      },
      "execution_count": null,
      "outputs": []
    },
    {
      "cell_type": "markdown",
      "source": [
        "2. Prove AB ̸= BA."
      ],
      "metadata": {
        "id": "ybfA-6j0s-zV"
      }
    },
    {
      "cell_type": "code",
      "source": [
        "# Compute AB and BA\n",
        "AB = np.dot(A, B)\n",
        "BA = np.dot(B, A)\n",
        "# Print results\n",
        "print(\"AB:\\n\", AB, \"\\n\")\n",
        "print(\"BA:\\n\", BA)\n",
        "# Check if AB is equal to BA\n",
        "print(\"Does AB equal to BA?\", np.array_equal(AB, BA))"
      ],
      "metadata": {
        "id": "jVpWiNwwtASt"
      },
      "execution_count": null,
      "outputs": []
    },
    {
      "cell_type": "markdown",
      "source": [
        "3. Prove (AB) T = B T A T"
      ],
      "metadata": {
        "id": "YIaGfe0DtCnN"
      }
    },
    {
      "cell_type": "code",
      "source": [
        "# Compute (AB)^T\n",
        "AB_T = np.transpose(AB)\n",
        "# Compute B^T * A^T\n",
        "BT_AT = np.dot(np.transpose(B), np.transpose(A))\n",
        "# Print results\n",
        "print(\"(AB)^T:\\n\", AB_T, \"\\n\")\n",
        "print(\"B^T * A^T:\\n\", BT_AT)\n",
        "# Check if they are equal\n",
        "print(\"Does (AB)^T equal to B^T * A^T?\", np.array_equal(AB_T, BT_AT))"
      ],
      "metadata": {
        "id": "00iM8AsHtEYl"
      },
      "execution_count": null,
      "outputs": []
    },
    {
      "cell_type": "markdown",
      "source": [
        "Solve the following system of Linear equation using Inverse Methods.\n",
        "\n",
        "2x − 3y + z = −1\n",
        "\n",
        "x − y + 2z = −3\n",
        "\n",
        "3x + y − z = 9\n",
        "\n",
        "{Hint: First use Numpy array to represent the equation in Matrix form. Then Solve for: AX = B}"
      ],
      "metadata": {
        "id": "YIvbdi0NtJgF"
      }
    },
    {
      "cell_type": "code",
      "source": [
        "# Define matrices\n",
        "A_matrix = np.array([[2, -3, 1], [1, -1, 2], [3, 1, -1]])\n",
        "B_matrix = np.array([-1, -3, 9])\n",
        "# Compute inverse of A\n",
        "A_inv_matrix = np.linalg.inv(A_matrix)\n",
        "# Solve for X\n",
        "X = np.dot(A_inv_matrix, B_matrix)\n",
        "# Print solution\n",
        "print(\"Solution for x, y, z:\", X)"
      ],
      "metadata": {
        "id": "YYKljeBftJS-"
      },
      "execution_count": null,
      "outputs": []
    }
  ]
}